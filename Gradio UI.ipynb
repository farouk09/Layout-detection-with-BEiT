{
 "cells": [
  {
   "cell_type": "code",
   "execution_count": null,
   "metadata": {},
   "outputs": [],
   "source": [
    "from mmdet.apis import DetInferencer\n",
    "\n",
    "# Choose to use a config\n",
    "model_name = '/home/farouk/BEiT_CV_parsing/object_detection/configs/beit/faster-rcnn_beit_base_12_512_cvparsing.py'\n",
    "# Setup a checkpoint file to load\n",
    "checkpoint = '/home/farouk/BEiT_CV_parsing/object_detection/work_dirs/faster-rcnn_beit_base_12_512_cvparsing/epoch_102.pth'\n",
    "\n",
    "# Set the device to be used for evaluation\n",
    "device = 'cuda:0'\n",
    "\n",
    "# Initialize the DetInferencer\n",
    "inferencer = DetInferencer(model_name, checkpoint, device)\n",
    "\n",
    "# Use the detector to do inference\n",
    "img = '/home/farouk/BEiT_CV_parsing/dataset/images/test/Hamza_Al_Rawi-1.png'\n",
    "result = inferencer(img, out_dir='./out')"
   ]
  },
  {
   "cell_type": "code",
   "execution_count": null,
   "metadata": {},
   "outputs": [],
   "source": [
    "from mmdet.apis import init_detector, inference_detector\n",
    "import mmcv\n",
    "# build the model from a config file and a checkpoint file\n",
    "model = init_detector(model_name, checkpoint, device='cuda:0')\n",
    "\n",
    "# test a single image and show the results\n",
    "img = '/home/farouk/BEiT_CV_parsing/dataset/images/test/Hamza_Al_Rawi-1.png'\n",
    "result = inference_detector(model, img)\n",
    "# visualize the results in a new window\n",
    "model.show_result(img, result, out_file='result.jpg')\n"
   ]
  },
  {
   "cell_type": "code",
   "execution_count": null,
   "metadata": {},
   "outputs": [],
   "source": [
    "# init the visualizer(execute this block only once)\n",
    "visualizer = VISUALIZERS.build(model.cfg.visualizer)\n",
    "# the dataset_meta is loaded from the checkpoint and\n",
    "# then pass to the model in init_detector\n",
    "visualizer.dataset_meta = model.dataset_meta\n",
    "\n",
    "# show the results\n",
    "visualizer.add_datasample(\n",
    "    'result',\n",
    "    image,\n",
    "    data_sample=result,\n",
    "    draw_gt=False,\n",
    "    wait_time=0,\n",
    "    out_file='outputs/result.png' # optionally, write to output file\n",
    ")\n",
    "visualizer.show()"
   ]
  },
  {
   "cell_type": "code",
   "execution_count": null,
   "metadata": {},
   "outputs": [],
   "source": [
    "from mmdet.apis import init_detector, inference_detector\n",
    "import mmcv\n",
    "\n",
    "\n",
    "img = '/home/farouk/BEiT_CV_parsing/dataset/images/test/Hamza_Al_Rawi-1.png'\n",
    "# build the model from a config file and a checkpoint file\n",
    "model = init_detector(model_name, checkpoint, device='cuda:0')"
   ]
  },
  {
   "cell_type": "code",
   "execution_count": null,
   "metadata": {},
   "outputs": [],
   "source": [
    "from PIL import Image\n",
    "\n",
    "import numpy as np\n",
    "def predict(image):\n",
    "  # Use the detector to do inference\n",
    "  img = image\n",
    "  result = inferencer(img, out_dir='./out')\n",
    "  print('./output/vis/'+img.split('/')[-1])\n",
    "  return Image.open('./out/vis/'+img.split('/')[-1][:-4]+\".png\")\n"
   ]
  },
  {
   "cell_type": "code",
   "execution_count": null,
   "metadata": {},
   "outputs": [],
   "source": [
    "import gradio as gr\n",
    "io1=gr.Interface(\n",
    "    predict,\n",
    "    title = 'Layout detection',\n",
    "    inputs=[\n",
    "        gr.Image(source = 'upload', type = 'filepath')\n",
    "    ],\n",
    "    outputs = [\n",
    "        gr.Image()\n",
    "        ],\n",
    "     theme=gr.themes.Soft()\n",
    ")"
   ]
  },
  {
   "cell_type": "code",
   "execution_count": null,
   "metadata": {},
   "outputs": [],
   "source": [
    "io1.launch()"
   ]
  }
 ],
 "metadata": {
  "kernelspec": {
   "display_name": ".venv",
   "language": "python",
   "name": "python3"
  },
  "language_info": {
   "codemirror_mode": {
    "name": "ipython",
    "version": 3
   },
   "file_extension": ".py",
   "mimetype": "text/x-python",
   "name": "python",
   "nbconvert_exporter": "python",
   "pygments_lexer": "ipython3",
   "version": "3.8.15"
  },
  "orig_nbformat": 4
 },
 "nbformat": 4,
 "nbformat_minor": 2
}
