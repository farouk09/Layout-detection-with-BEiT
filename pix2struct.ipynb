{
 "cells": [
  {
   "cell_type": "code",
   "execution_count": 1,
   "metadata": {},
   "outputs": [
    {
     "name": "stderr",
     "output_type": "stream",
     "text": [
      "/home/farouk/BEiT_CV_parsing/pix2struct/lib/python3.8/site-packages/tqdm/auto.py:21: TqdmWarning: IProgress not found. Please update jupyter and ipywidgets. See https://ipywidgets.readthedocs.io/en/stable/user_install.html\n",
      "  from .autonotebook import tqdm as notebook_tqdm\n"
     ]
    }
   ],
   "source": [
    "from pdf2image import convert_from_path, convert_from_bytes\n",
    "import torch\n",
    "from functools import partial\n",
    "from PIL import Image\n",
    "from transformers import Pix2StructForConditionalGeneration as psg\n",
    "from transformers import Pix2StructProcessor as psp"
   ]
  },
  {
   "cell_type": "code",
   "execution_count": 8,
   "metadata": {},
   "outputs": [
    {
     "name": "stderr",
     "output_type": "stream",
     "text": [
      "Downloading pytorch_model.bin: 100%|██████████| 5.34G/5.34G [11:55<00:00, 7.47MB/s]\n",
      "Downloading (…)rocessor_config.json: 100%|██████████| 249/249 [00:00<00:00, 278kB/s]\n",
      "Downloading (…)okenizer_config.json: 100%|██████████| 2.58k/2.58k [00:00<00:00, 3.17MB/s]\n",
      "Downloading spiece.model: 100%|██████████| 851k/851k [00:00<00:00, 1.82MB/s]\n",
      "Downloading (…)/main/tokenizer.json: 100%|██████████| 3.27M/3.27M [00:00<00:00, 8.81MB/s]\n",
      "Downloading (…)cial_tokens_map.json: 100%|██████████| 2.20k/2.20k [00:00<00:00, 2.93MB/s]\n"
     ]
    }
   ],
   "source": [
    "DEVICE = \"cuda\" if torch.cuda.is_available() else \"cpu\"\n",
    "model = psg.from_pretrained(\"google/pix2struct-docvqa-large\").to(DEVICE)\n",
    "processor = psp.from_pretrained(\"google/pix2struct-docvqa-large\")"
   ]
  },
  {
   "cell_type": "code",
   "execution_count": 3,
   "metadata": {},
   "outputs": [],
   "source": [
    "def generate(model, processor, img, questions):\n",
    "  inputs = processor(images=[img for _ in range(len(questions))], \n",
    "           text=questions, return_tensors=\"pt\").to(DEVICE)\n",
    "  predictions = model.generate(**inputs, max_new_tokens=256)\n",
    "  return zip(questions, processor.batch_decode(predictions, skip_special_tokens=True))\n",
    "\n",
    "def convert_pdf_to_image(filename, page_no):\n",
    "    return convert_from_path(filename)[page_no-1]"
   ]
  },
  {
   "cell_type": "code",
   "execution_count": 4,
   "metadata": {},
   "outputs": [],
   "source": [
    "FILENAME = \"/home/farouk/BEiT_CV_parsing/cvparsing_v1_203/train/Aaheli Bhattacharjee (CN092983)/Aaheli Bhattacharjee (CN092983).pdf\"\n",
    "PAGE_NO = 1"
   ]
  },
  {
   "cell_type": "code",
   "execution_count": 5,
   "metadata": {},
   "outputs": [],
   "source": [
    "questions = [\"Outside of your professional career, what are your other interests and hobbies?\"]"
   ]
  },
  {
   "cell_type": "code",
   "execution_count": 16,
   "metadata": {},
   "outputs": [],
   "source": [
    "questions = [\"how much time did he work as Consultant at Halliburton?\"]"
   ]
  },
  {
   "cell_type": "code",
   "execution_count": 7,
   "metadata": {},
   "outputs": [
    {
     "name": "stdout",
     "output_type": "stream",
     "text": [
      "pdf to image conversion complete.\n",
      "('Outside of your professional career, what are your other interests and hobbies?', 'Aaheli Bhattacharjee')\n"
     ]
    }
   ],
   "source": [
    "image = convert_pdf_to_image(FILENAME, PAGE_NO)\n",
    "print(\"pdf to image conversion complete.\")\n",
    "generator = partial(generate, model, processor)\n",
    "completions = generator(image, questions)\n",
    "for completion in completions:\n",
    "    print(f\"{completion}\") "
   ]
  },
  {
   "cell_type": "code",
   "execution_count": 10,
   "metadata": {},
   "outputs": [
    {
     "name": "stderr",
     "output_type": "stream",
     "text": [
      "Downloading (…)lve/main/config.json: 100%|██████████| 4.89k/4.89k [00:00<00:00, 1.62MB/s]\n",
      "Downloading pytorch_model.bin: 100%|██████████| 1.13G/1.13G [02:51<00:00, 6.58MB/s]\n",
      "Downloading (…)rocessor_config.json: 100%|██████████| 249/249 [00:00<00:00, 199kB/s]\n",
      "Downloading (…)okenizer_config.json: 100%|██████████| 2.58k/2.58k [00:00<00:00, 2.18MB/s]\n",
      "Downloading spiece.model: 100%|██████████| 851k/851k [00:00<00:00, 1.79MB/s]\n",
      "Downloading (…)/main/tokenizer.json: 100%|██████████| 3.27M/3.27M [00:00<00:00, 7.24MB/s]\n",
      "Downloading (…)cial_tokens_map.json: 100%|██████████| 2.20k/2.20k [00:00<00:00, 1.75MB/s]\n"
     ]
    }
   ],
   "source": [
    "DEVICE = \"cuda\" if torch.cuda.is_available() else \"cpu\"\n",
    "model = psg.from_pretrained(\"google/pix2struct-chartqa-base\").to(DEVICE)\n",
    "processor = psp.from_pretrained(\"google/pix2struct-chartqa-base\")"
   ]
  }
 ],
 "metadata": {
  "kernelspec": {
   "display_name": ".venv",
   "language": "python",
   "name": "python3"
  },
  "language_info": {
   "codemirror_mode": {
    "name": "ipython",
    "version": 3
   },
   "file_extension": ".py",
   "mimetype": "text/x-python",
   "name": "python",
   "nbconvert_exporter": "python",
   "pygments_lexer": "ipython3",
   "version": "3.8.15"
  },
  "orig_nbformat": 4
 },
 "nbformat": 4,
 "nbformat_minor": 2
}
